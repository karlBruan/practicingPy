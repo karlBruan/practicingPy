{
  "nbformat": 4,
  "nbformat_minor": 0,
  "metadata": {
    "colab": {
      "provenance": [],
      "authorship_tag": "ABX9TyP4ZaG9Y5nzL33xbRg9Rfl5",
      "include_colab_link": true
    },
    "kernelspec": {
      "name": "python3",
      "display_name": "Python 3"
    },
    "language_info": {
      "name": "python"
    }
  },
  "cells": [
    {
      "cell_type": "markdown",
      "metadata": {
        "id": "view-in-github",
        "colab_type": "text"
      },
      "source": [
        "<a href=\"https://colab.research.google.com/github/karlBruan/practicingPy/blob/main/practicePy.ipynb\" target=\"_parent\"><img src=\"https://colab.research.google.com/assets/colab-badge.svg\" alt=\"Open In Colab\"/></a>"
      ]
    },
    {
      "cell_type": "markdown",
      "source": [
        "end & sep parameter and output formatting\n",
        "\n"
      ],
      "metadata": {
        "id": "hemeRXtNzA66"
      }
    },
    {
      "cell_type": "code",
      "execution_count": null,
      "metadata": {
        "colab": {
          "base_uri": "https://localhost:8080/"
        },
        "id": "NGPgepH2y8-V",
        "outputId": "5592deb0-0683-4417-9c96-8bba66f928cd"
      },
      "outputs": [
        {
          "output_type": "stream",
          "name": "stdout",
          "text": [
            "Hello, my name is Karl and i love learning things.\n",
            "\n",
            "I have 90 facebook friends, 40 in twitter & 60 in ig\n",
            "\n",
            "Geeks :  4, Portal :  5.33\n"
          ]
        }
      ],
      "source": [
        "### END AND SEP PARAMETER\n",
        "name = 'Karl'\n",
        "fave = 'i love learning things'\n",
        "\n",
        "print(\"Hello, my name is\" , name , end = ' ')\n",
        "print(\"and\" , fave, sep = \" \" , end = '.')\n",
        "\n",
        "### OUTPUT FORMATTING\n",
        "tab = {'fbfriends': 90, 'twfriends': 40, 'igfriends': 60}\n",
        "print(\"\\n\\nI have {0[fbfriends]:d} facebook friends, {0[twfriends]:d} in twitter & {0[igfriends]:d} in ig\".format(tab))\n",
        "print(\"\\nGeeks : %2d, Portal : %5.2f\" % (4, 05.333))\n",
        "## %2d = num will be printed with 2 characters/digits\n",
        "## %5.2f is 5 = total number string can contain,\n",
        "## 2 = precision/rounding off & f = float number"
      ]
    },
    {
      "cell_type": "markdown",
      "source": [
        "increment or decrement operators"
      ],
      "metadata": {
        "id": "LnssX1kU554O"
      }
    },
    {
      "cell_type": "code",
      "source": [
        "##for variable_name in range(start, stop, step)\n",
        "print(\"Incremented for loop\")\n",
        "for i in range(0,5,1):\n",
        "  print(i)\n",
        "\n",
        "print(\"\\nDecremented for loop\")\n",
        "for num in range(10,5,-1):\n",
        "  print(num)"
      ],
      "metadata": {
        "colab": {
          "base_uri": "https://localhost:8080/"
        },
        "id": "oGdBn4gv5_Rt",
        "outputId": "bfd04051-520e-4aa7-f4f7-7c9ae6456253"
      },
      "execution_count": null,
      "outputs": [
        {
          "output_type": "stream",
          "name": "stdout",
          "text": [
            "Incremented for loop\n",
            "0\n",
            "1\n",
            "2\n",
            "3\n",
            "4\n",
            "\n",
            "Decremented for loop\n",
            "10\n",
            "9\n",
            "8\n",
            "7\n",
            "6\n"
          ]
        }
      ]
    },
    {
      "cell_type": "markdown",
      "source": [
        "# **ARGUMENTS**\n",
        "The difference between argument and parameter is that a parameter is a named variable that specifies the type and order of the arguments that the function expects.An argument, on the other hand, is a value that is passed to a function when it is called. The arguments are the actual values that are provided for its parameters."
      ],
      "metadata": {
        "id": "9xZDmE8Ocx8T"
      }
    },
    {
      "cell_type": "markdown",
      "source": [
        "**Types of Arguments**\n",
        "\n",
        "*1. Keyword Arguments* - The idea is to allow the caller to specify the argument name with values so that caller does not need to remember the order of parameters.\n"
      ],
      "metadata": {
        "id": "UvJxYVFXdTRc"
      }
    },
    {
      "cell_type": "code",
      "source": [
        "# Python program to demonstrate Keyword Arguments\n",
        "def student(firstname, lastname):\n",
        "    print(firstname, lastname)\n",
        " \n",
        " \n",
        "# Keyword arguments\n",
        "student(firstname='Geeks', lastname='Practice')\n",
        "student(lastname='Practice', firstname='Geeks')"
      ],
      "metadata": {
        "colab": {
          "base_uri": "https://localhost:8080/"
        },
        "id": "vfSje4_fdxTG",
        "outputId": "f39a2a4a-2a93-463a-bd96-a32df795e9bf"
      },
      "execution_count": null,
      "outputs": [
        {
          "output_type": "stream",
          "name": "stdout",
          "text": [
            "Geeks Practice\n",
            "Geeks Practice\n"
          ]
        }
      ]
    },
    {
      "cell_type": "markdown",
      "source": [
        "*2. Variable-length arguments* - we can pass a variable number using special symbols.\n",
        "\n",
        "\n",
        "> a.(*args) Variable length non-keywords arguments \n",
        "\n"
      ],
      "metadata": {
        "id": "ffn1USXId4Am"
      }
    },
    {
      "cell_type": "code",
      "source": [
        "def myFun(*args):\n",
        "    for arg in args:\n",
        "        print(arg)\n",
        " \n",
        " \n",
        "myFun('Hello', 'Welcome', 'to', 'GeeksforGeeks')"
      ],
      "metadata": {
        "colab": {
          "base_uri": "https://localhost:8080/"
        },
        "id": "Qu5n5D_Ed_Wd",
        "outputId": "4485bbcd-5a75-4192-cde0-f8955569aee9"
      },
      "execution_count": null,
      "outputs": [
        {
          "output_type": "stream",
          "name": "stdout",
          "text": [
            "Hello\n",
            "Welcome\n",
            "to\n",
            "GeeksforGeeks\n"
          ]
        }
      ]
    },
    {
      "cell_type": "markdown",
      "source": [
        "\n",
        "\n",
        "> b. (**kargs) Variable length keywords arguments\n",
        "\n"
      ],
      "metadata": {
        "id": "65R-i-ZSeyO4"
      }
    },
    {
      "cell_type": "code",
      "source": [
        "# Python program to illustrate\n",
        "# *kwargs for variable number of keyword arguments\n",
        " \n",
        " \n",
        "def myFun(**kwargs):\n",
        "    for key, value in kwargs.items():\n",
        "        print(\"%s == %s\" % (key, value))\n",
        " \n",
        " \n",
        "# Driver code\n",
        "myFun(first='Geeks', mid='for', last='Geeks')"
      ],
      "metadata": {
        "id": "77JegR0Ed20r"
      },
      "execution_count": null,
      "outputs": []
    },
    {
      "cell_type": "markdown",
      "source": [
        "# **Global and Local variables**\n",
        "\n",
        "To tell Python, that we want to use the global variable, we have to use the keyword “global”"
      ],
      "metadata": {
        "id": "yWfzWP769Gez"
      }
    },
    {
      "cell_type": "code",
      "source": [
        "#### How global variable works\n",
        "def numGuess():\n",
        "  global lowBound \n",
        "  lowBound = int(input(\"Enter lowerbound number: \"))\n",
        "  global upBound \n",
        "  upBound = int(input(\"Enter upperbound number: \"))\n",
        "\n",
        "numGuess()\n",
        "print(lowBound)\n",
        "print(upBound)"
      ],
      "metadata": {
        "colab": {
          "base_uri": "https://localhost:8080/"
        },
        "id": "I6Tl-XO1PYxT",
        "outputId": "781a0799-ce1e-4d46-f007-9774ee7ba3d8"
      },
      "execution_count": null,
      "outputs": [
        {
          "output_type": "stream",
          "name": "stdout",
          "text": [
            "Enter lowerbound number: 78\n",
            "Enter upperbound number: 90\n",
            "78\n",
            "90\n"
          ]
        }
      ]
    },
    {
      "cell_type": "code",
      "source": [
        "###Global in nested functions\n",
        "\n",
        "def catchup():\n",
        "  hau = 'no, i am not fine'\n",
        "  def goTherapy():\n",
        "      global hau\n",
        "      hau = \"i am fine\"\n",
        "  print(\"How are you?\", hau, \"\\nAfter going to therapy\", sep = ' ')\n",
        "  goTherapy()\n",
        "  \n",
        "catchup()\n",
        "print(\"How are you?\", hau , sep = ' ')"
      ],
      "metadata": {
        "colab": {
          "base_uri": "https://localhost:8080/"
        },
        "id": "WCYuFZQ_SGKm",
        "outputId": "88c18d94-3380-4373-c0db-bc23fc32e0dd"
      },
      "execution_count": null,
      "outputs": [
        {
          "output_type": "stream",
          "name": "stdout",
          "text": [
            "How are you? no, i am not fine \n",
            "After going to therapy\n",
            "How are you? i am fine\n"
          ]
        }
      ]
    },
    {
      "cell_type": "markdown",
      "source": [
        "# **First Class Functions**\n",
        "\n",
        "---\n",
        "**1. First class objects in a language are handled uniformly throughout. They may be stored in data structures, passed as arguments, or used in control structures.**\n"
      ],
      "metadata": {
        "id": "9Rm2hq1sVjcr"
      }
    },
    {
      "cell_type": "code",
      "source": [
        "#### 1. Functions are objects. (You can store a fucntion to a variable)\n",
        "print('FUNCTIONS ARE OBJECTS')\n",
        "\n",
        "def shout(text):\n",
        "  return text.upper()\n",
        "\n",
        "print(shout('\\nHello'))\n",
        "yell = shout\n",
        "print(yell('Hello'))\n",
        "\n",
        "def whisper(text):\n",
        "  return text.lower()\n",
        "\n",
        "print(whisper('\\nGOODBYE'))\n",
        "incantate = whisper\n",
        "print(incantate('GOODBYE'))\n",
        "\n",
        "\n"
      ],
      "metadata": {
        "colab": {
          "base_uri": "https://localhost:8080/"
        },
        "id": "0iQjJogJTl8F",
        "outputId": "591625bb-15a0-4894-8234-710587cdb248"
      },
      "execution_count": null,
      "outputs": [
        {
          "output_type": "stream",
          "name": "stdout",
          "text": [
            "FUNCTIONS ARE OBJECTS\n",
            "\n",
            "HELLO\n",
            "HELLO\n",
            "\n",
            "goodbye\n",
            "goodbye\n"
          ]
        }
      ]
    },
    {
      "cell_type": "markdown",
      "source": [
        "**2. Functions can be passed as arguments to other functions**\n",
        "\n",
        "\n",
        "---\n",
        "Functions that can accept other functions as arguments are also called higher-order functions\n"
      ],
      "metadata": {
        "id": "4MvCbg-CLn5Q"
      }
    },
    {
      "cell_type": "code",
      "source": [
        "print('FUNCTIONS CAN BE PASSES AS ARGUMENTS')\n",
        "'''\n",
        "def shout(text):\n",
        "    return text.upper()\n",
        "  \n",
        "def whisper(text):\n",
        "    return text.lower()\n",
        "  \n",
        "def greet(func):\n",
        "    # storing the function in a variable\n",
        "    greeting = func(\"\"\"\\nHi, I am created by a function passed as an argument.\"\"\")\n",
        "    print(greeting) \n",
        "\n",
        "greet(shout)\n",
        "greet(whisper)\n",
        "'''\n",
        "\n",
        "def celciusFa(num):\n",
        "    celcius = ((num - 32) * .5556)\n",
        "    return celcius\n",
        "\n",
        "def farenheitCe(num):\n",
        "    farenheit = ((num * 1.8) + 32)\n",
        "    return farenheit\n",
        "\n",
        "\n",
        "def convert(funct):\n",
        "    num = funct(int(input(\"Enter you number: \")))\n",
        "    print(num)\n",
        "\n",
        "convert(celciusFa)\n"
      ],
      "metadata": {
        "colab": {
          "base_uri": "https://localhost:8080/"
        },
        "id": "doNQX4WjLwJ6",
        "outputId": "37c40edd-5b37-4cf9-9ab9-972df8b4593e"
      },
      "execution_count": null,
      "outputs": [
        {
          "output_type": "stream",
          "name": "stdout",
          "text": [
            "FUNCTIONS CAN BE PASSES AS ARGUMENTS\n",
            "Enter you number: 45\n",
            "7.222799999999999\n"
          ]
        }
      ]
    },
    {
      "cell_type": "markdown",
      "source": [
        "**3. Functions can return another function**\n",
        "\n"
      ],
      "metadata": {
        "id": "ElTTs-YyTOsM"
      }
    },
    {
      "cell_type": "code",
      "source": [
        "'''\n",
        "def create_adder(x):\n",
        "    def adder(y):\n",
        "        return x+y\n",
        "  \n",
        "    return adder\n",
        "  \n",
        "add_15 = create_adder(15)\n",
        "  \n",
        "print (add_15(10))\n",
        "'''\n",
        "\n",
        "def create_divider(a): ### in here, we created a function that shows division\n",
        "  def div(b):          ### under a division is another division\n",
        "    return a/b         ### that return a number dividing that number\n",
        "  return div           ### this line returns a function from a function\n",
        "\n",
        "divide_70 = create_divider(70)\n",
        "print(divide_70(2))"
      ],
      "metadata": {
        "colab": {
          "base_uri": "https://localhost:8080/"
        },
        "id": "hltuaw1gTV6z",
        "outputId": "e6052cbe-6ff9-442c-bd57-1fd47c35b0f6"
      },
      "execution_count": null,
      "outputs": [
        {
          "output_type": "stream",
          "name": "stdout",
          "text": [
            "35.0\n"
          ]
        }
      ]
    },
    {
      "cell_type": "markdown",
      "source": [
        "# **Python Closures**\n",
        "**Nested functions**\n",
        "\n",
        "---\n",
        "A function that is defined inside another function is known as a nested function. Nested functions are able to access variables of the enclosing scope. \n"
      ],
      "metadata": {
        "id": "QtpIKhaiWBNx"
      }
    },
    {
      "cell_type": "code",
      "source": [
        "def outerFunction(text):\n",
        " \n",
        "    def innerFunction():\n",
        "        print(text)\n",
        " \n",
        "    innerFunction()\n",
        " \n",
        "if __name__ == '__main__':\n",
        "    outerFunction('Hey!')"
      ],
      "metadata": {
        "colab": {
          "base_uri": "https://localhost:8080/"
        },
        "id": "ncgnARHHW-cf",
        "outputId": "75a10b82-7077-46c0-c396-a50fba659df1"
      },
      "execution_count": null,
      "outputs": [
        {
          "output_type": "stream",
          "name": "stdout",
          "text": [
            "Hey!\n"
          ]
        }
      ]
    },
    {
      "cell_type": "markdown",
      "source": [
        "# **DECORATOR**\n",
        "\n",
        "In Python, a **decorator** is a function that takes another function as input, adds some functionality to it, and returns the modified function. Decorators are used to modify or enhance the behavior of functions without changing their source code."
      ],
      "metadata": {
        "id": "YZ6Okd0Jaegn"
      }
    },
    {
      "cell_type": "code",
      "source": [
        "# defining a decorator\n",
        "def hello_decorator(func):\n",
        " \n",
        "    # inner1 is a Wrapper function in\n",
        "    # which the argument is called\n",
        "     \n",
        "    # inner function can access the outer local\n",
        "    # functions like in this case \"func\"\n",
        "    def inner1():\n",
        "        print(\"Hello, this is before function execution\")\n",
        " \n",
        "        # calling the actual function now\n",
        "        # inside the wrapper function.\n",
        "        func()\n",
        " \n",
        "        print(\"This is after function execution\")\n",
        "         \n",
        "    return inner1\n",
        " \n",
        " \n",
        "# defining a function, to be called inside wrapper\n",
        "def function_to_be_used():\n",
        "    print(\"This is inside the function !!\")\n",
        " \n",
        " \n",
        "# passing 'function_to_be_used' inside the\n",
        "# decorator to control its behaviour\n",
        "function_to_be_used = hello_decorator(function_to_be_used)\n",
        " \n",
        " \n",
        "# calling the function\n",
        "function_to_be_used()"
      ],
      "metadata": {
        "colab": {
          "base_uri": "https://localhost:8080/"
        },
        "id": "ZjfKIsp4ZdNa",
        "outputId": "c354b1c6-6b0e-4cdb-8227-0130a19bcf32"
      },
      "execution_count": null,
      "outputs": [
        {
          "output_type": "stream",
          "name": "stdout",
          "text": [
            "Hello, this is before function execution\n",
            "This is inside the function !!\n",
            "This is after function execution\n"
          ]
        }
      ]
    }
  ]
}